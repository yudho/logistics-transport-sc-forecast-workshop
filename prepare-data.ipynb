{
 "cells": [
  {
   "cell_type": "markdown",
   "metadata": {},
   "source": [
    "## Data used in these notebooks: NYC Taxi trips open data\n",
    "\n",
    "Given hourly historical taxi trips data for NYC, your task is to predict #pickups in next 7 days, per hour and per pickup zone.  <br>\n",
    "\n",
    "<ul>\n",
    "<li>Original data source:  <a href=\"https://www1.nyc.gov/site/tlc/about/tlc-trip-record-data.page\" target=\"_blank\"> https://www1.nyc.gov/site/tlc/about/tlc-trip-record-data.page</a> </li>\n",
    "<li>AWS-hosted public source:  <a href=\"https://registry.opendata.aws/nyc-tlc-trip-records-pds/\" target=\"_blank\">https://registry.opendata.aws/nyc-tlc-trip-records-pds/ </a> </li>\n",
    "<li>AWS managed weather data ingestion as a service that is bundled with Amazon Forecast, aggregated by location and by hour.  Initially only for USA and Europe, but depending on demand, possibly in the future for other global regions. </li>\n",
    "<li>Data used:  Yellow taxis dates: 2018-12 through 2020-02 to avoid COVID effects </li>\n",
    "</ul>\n",
    "\n",
    " \n",
    "### Features and cleaning\n",
    "Note: ~5GB Raw Data has already been cleaned and joined using AWS Glue (tutorials to be created in future). \n",
    "<ul>\n",
    "    <li>Join shape files Latitude, Longitude</li>\n",
    "    <li>Add Trip duration in minutes</li>\n",
    "    <li>Drop negative trip distances, 0 fares, 0 passengers, less than 1min trip durations </li>\n",
    "    <li>Drop 2 unknown zones ['264', '265']\n",
    "    </ul>"
   ]
  },
  {
   "cell_type": "markdown",
   "metadata": {},
   "source": [
    "## Step 0:  Set up and install libraries <a class=\"anchor\" id=\"setup\"></a>"
   ]
  },
  {
   "cell_type": "code",
   "execution_count": 15,
   "metadata": {},
   "outputs": [],
   "source": [
    "# Import standard open libraries\n",
    "import os\n",
    "import sys\n",
    "import datetime\n",
    "from dateutil.relativedelta import relativedelta\n",
    "import pandas as pd\n",
    "import time\n",
    "import random\n",
    "import numpy as np\n",
    "import matplotlib as mpl\n",
    "import matplotlib.pyplot as plt\n",
    "%matplotlib inline \n",
    "import seaborn as sns\n",
    "\n",
    "# AWS libraries and initialization\n",
    "import boto3\n",
    "import sagemaker"
   ]
  },
  {
   "cell_type": "markdown",
   "metadata": {},
   "source": [
    "<b>Create a new S3 bucket for this lesson</b>\n",
    "- The cell below will create a new S3 bucket with name ending in \"forecast-demo-taxi\""
   ]
  },
  {
   "cell_type": "code",
   "execution_count": 16,
   "metadata": {},
   "outputs": [
    {
     "name": "stdout",
     "output_type": "stream",
     "text": [
      "using folder 'nyc-taxi-trips'\n"
     ]
    }
   ],
   "source": [
    "# create unique S3 bucket for saving your own data\n",
    "from sagemaker import get_execution_role\n",
    "sess = sagemaker.Session()\n",
    "s3_bucket_name = sess.default_bucket()\n",
    "    \n",
    "# create prefix for organizing your new bucket\n",
    "prefix = \"nyc-taxi-trips\"\n",
    "print(f\"using folder '{prefix}'\")"
   ]
  },
  {
   "cell_type": "markdown",
   "metadata": {},
   "source": [
    "## Step 1. Read data <a class=\"anchor\" id=\"read\"></a>\n",
    "\n",
    "The first thing we're going to do is read the headerless .csv file.  Then we need to identify which columns map to required Amazon Forecast inputs.\n",
    "\n",
    "<img src=\"https://amazon-forecast-samples.s3-us-west-2.amazonaws.com/common/images/nyctaxi_map_fields.png\" width=\"82%\">\n",
    "<br>\n",
    "\n",
    "<b>In order to use Weather Index, you need a geolocation-type column.</b>  The geolocation-type column connects your locations to geolocations, and can be 5-digit postal code or latitude_longitude.  For more details, see:\n",
    "<ul>\n",
    "    <li><a href=\"https://docs.aws.amazon.com/forecast/latest/dg/weather.html\" target=\"_blank\">Link to documentation about geolocations</a></li>\n",
    "    <li><a href=\"https://aws.amazon.com/blogs/machine-learning/amazon-forecast-weather-index-automatically-include-local-weather-to-increase-your-forecasting-model-accuracy/\" target=\"_blank\">Our Weather blog, which shows UI steps.</a></li>\n",
    "</ul>\n",
    "\n",
    "The cell below shows an example reading headerless csv file with lat_lon geolocation column, \"pickup_geolocation\".  The rest of this notebook writes headerless csv files to be able to use automation.  If you are not planning on using the automation solution, .csv files with headers are allowed."
   ]
  },
  {
   "cell_type": "code",
   "execution_count": 18,
   "metadata": {},
   "outputs": [
    {
     "name": "stdout",
     "output_type": "stream",
     "text": [
      "(1507488, 9)\n",
      "(1507488, 9)\n",
      "Min timestamp = 2019-07-01 00:00:00\n",
      "Max timestamp = 2020-02-29 23:00:00\n"
     ]
    },
    {
     "data": {
      "text/html": [
       "<div>\n",
       "<style scoped>\n",
       "    .dataframe tbody tr th:only-of-type {\n",
       "        vertical-align: middle;\n",
       "    }\n",
       "\n",
       "    .dataframe tbody tr th {\n",
       "        vertical-align: top;\n",
       "    }\n",
       "\n",
       "    .dataframe thead th {\n",
       "        text-align: right;\n",
       "    }\n",
       "</style>\n",
       "<table border=\"1\" class=\"dataframe\">\n",
       "  <thead>\n",
       "    <tr style=\"text-align: right;\">\n",
       "      <th></th>\n",
       "      <th>pulocationid</th>\n",
       "      <th>pickup_hourly</th>\n",
       "      <th>pickup_day_of_week</th>\n",
       "      <th>day_hour</th>\n",
       "      <th>trip_quantity</th>\n",
       "      <th>mean_item_loc_weekday</th>\n",
       "      <th>pickup_geolocation</th>\n",
       "      <th>pickup_borough</th>\n",
       "      <th>binned_max_item</th>\n",
       "    </tr>\n",
       "  </thead>\n",
       "  <tbody>\n",
       "    <tr>\n",
       "      <th>1019255</th>\n",
       "      <td>180</td>\n",
       "      <td>2019-11-15 06:00:00</td>\n",
       "      <td>Friday</td>\n",
       "      <td>Friday_6</td>\n",
       "      <td>0</td>\n",
       "      <td>1.10465</td>\n",
       "      <td>40.67516385_-73.84936435</td>\n",
       "      <td>Queens</td>\n",
       "      <td>Cat_1</td>\n",
       "    </tr>\n",
       "    <tr>\n",
       "      <th>222775</th>\n",
       "      <td>157</td>\n",
       "      <td>2020-02-19 18:00:00</td>\n",
       "      <td>Wednesday</td>\n",
       "      <td>Wednesday_18</td>\n",
       "      <td>0</td>\n",
       "      <td>1.43360</td>\n",
       "      <td>40.72403936_-73.90192569</td>\n",
       "      <td>Queens</td>\n",
       "      <td>Cat_1</td>\n",
       "    </tr>\n",
       "    <tr>\n",
       "      <th>30203</th>\n",
       "      <td>113</td>\n",
       "      <td>2020-02-26 03:00:00</td>\n",
       "      <td>Wednesday</td>\n",
       "      <td>Wednesday_3</td>\n",
       "      <td>5</td>\n",
       "      <td>136.88095</td>\n",
       "      <td>40.73248595_-73.99462822</td>\n",
       "      <td>Manhattan</td>\n",
       "      <td>Cat_1</td>\n",
       "    </tr>\n",
       "    <tr>\n",
       "      <th>1130665</th>\n",
       "      <td>180</td>\n",
       "      <td>2020-01-15 13:00:00</td>\n",
       "      <td>Wednesday</td>\n",
       "      <td>Wednesday_13</td>\n",
       "      <td>0</td>\n",
       "      <td>1.09677</td>\n",
       "      <td>40.67516385_-73.84936435</td>\n",
       "      <td>Queens</td>\n",
       "      <td>Cat_1</td>\n",
       "    </tr>\n",
       "    <tr>\n",
       "      <th>384117</th>\n",
       "      <td>194</td>\n",
       "      <td>2019-11-20 20:00:00</td>\n",
       "      <td>Wednesday</td>\n",
       "      <td>Wednesday_20</td>\n",
       "      <td>2</td>\n",
       "      <td>1.32414</td>\n",
       "      <td>40.79143296_-73.92102903</td>\n",
       "      <td>Manhattan</td>\n",
       "      <td>Cat_1</td>\n",
       "    </tr>\n",
       "  </tbody>\n",
       "</table>\n",
       "</div>"
      ],
      "text/plain": [
       "        pulocationid       pickup_hourly pickup_day_of_week      day_hour  trip_quantity  mean_item_loc_weekday        pickup_geolocation pickup_borough binned_max_item\n",
       "1019255          180 2019-11-15 06:00:00             Friday      Friday_6              0                1.10465  40.67516385_-73.84936435         Queens           Cat_1\n",
       "222775           157 2020-02-19 18:00:00          Wednesday  Wednesday_18              0                1.43360  40.72403936_-73.90192569         Queens           Cat_1\n",
       "30203            113 2020-02-26 03:00:00          Wednesday   Wednesday_3              5              136.88095  40.73248595_-73.99462822      Manhattan           Cat_1\n",
       "1130665          180 2020-01-15 13:00:00          Wednesday  Wednesday_13              0                1.09677  40.67516385_-73.84936435         Queens           Cat_1\n",
       "384117           194 2019-11-20 20:00:00          Wednesday  Wednesday_20              2                1.32414  40.79143296_-73.92102903      Manhattan           Cat_1"
      ]
     },
     "execution_count": 18,
     "metadata": {},
     "output_type": "execute_result"
    }
   ],
   "source": [
    "## Read cleaned, joined, featurized data from Glue ETL processing\n",
    "df_raw = pd.read_csv(\"s3://amazon-forecast-samples/data_prep_templates/clean_features.csv\"\n",
    "                          , parse_dates=True\n",
    "                          , header=None\n",
    "                          , dtype={0:'str'\n",
    "                                   , 1: 'str'\n",
    "                                   , 2: 'str'\n",
    "                                   , 3:'str'\n",
    "                                   , 4: 'int32'\n",
    "                                   , 5: 'float64'\n",
    "                                   , 6: 'str'\n",
    "                                   , 7: 'str'\n",
    "                                   , 8: 'str'}\n",
    "                          , names=['pulocationid', 'pickup_hourly', 'pickup_day_of_week'\n",
    "                                   , 'day_hour', 'trip_quantity', 'mean_item_loc_weekday'\n",
    "                                   , 'pickup_geolocation', 'pickup_borough', 'binned_max_item'])\n",
    "\n",
    "# drop duplicates\n",
    "print(df_raw.shape)\n",
    "df_raw.drop_duplicates(inplace=True)\n",
    "\n",
    "df_raw['pickup_hourly'] = pd.to_datetime(df_raw[\"pickup_hourly\"], format=\"%Y-%m-%d %H:%M:%S\", errors='coerce')\n",
    "print(df_raw.shape)\n",
    "start_time = df_raw.pickup_hourly.min()\n",
    "end_time = df_raw.pickup_hourly.max()\n",
    "print(f\"Min timestamp = {start_time}\")\n",
    "print(f\"Max timestamp = {end_time}\")\n",
    "df_raw.sample(5)"
   ]
  },
  {
   "cell_type": "code",
   "execution_count": 11,
   "metadata": {},
   "outputs": [
    {
     "name": "stdout",
     "output_type": "stream",
     "text": [
      "forecast_dims = ['pickup_hourly', 'pulocationid']\n"
     ]
    }
   ],
   "source": [
    "# map expected column names\n",
    "item_id = \"pulocationid\"\n",
    "target_value = \"trip_quantity\"\n",
    "timestamp = \"pickup_hourly\"\n",
    "\n",
    "# specify array of dimensions you'll use for forecasting\n",
    "forecast_dims = [timestamp, item_id]\n",
    "\n",
    "print(f\"forecast_dims = {forecast_dims}\")"
   ]
  },
  {
   "cell_type": "code",
   "execution_count": 33,
   "metadata": {},
   "outputs": [],
   "source": [
    "# FORECAST SETTINGS\n",
    "FORECAST_FREQ = \"H\"\n",
    "FORECAST_LENGTH = 168\n",
    "DATA_VERSION = 1\n",
    "EXPERIMENT_NAME = \"nyc-prediction\""
   ]
  },
  {
   "cell_type": "code",
   "execution_count": 29,
   "metadata": {},
   "outputs": [
    {
     "name": "stdout",
     "output_type": "stream",
     "text": [
      "1/3 training data points: 1933.0\n",
      "Success, forecast horizon 168 is shorter than 500 data points and 1/3 train data\n"
     ]
    }
   ],
   "source": [
    "# ERROR CHECK: DO YOU HAVE ENOUGH HISTORICAL DATA POINTS TO SUPPORT DESIRED FORECAST HORIZON?\n",
    "train_df = df_raw\n",
    "# calculate number data points in train data\n",
    "num_data_points = train_df.groupby(dims_except_timestamp).nunique()[timestamp].mean()\n",
    "print(f\"1/3 training data points: {np.round(num_data_points/3,0)}\")\n",
    "\n",
    "# Amazon Forecast length of forecasts can be 500 data points and 1/3 target time series dataset length\n",
    "if ((FORECAST_LENGTH < 500) & (FORECAST_LENGTH <= np.round(num_data_points/3,0))):\n",
    "    print(f\"Success, forecast horizon {FORECAST_LENGTH} is shorter than 500 data points and 1/3 train data\")\n",
    "else:\n",
    "    print(f\"Error, forecast horizon {FORECAST_LENGTH} is too long.  Need fewer than 500 data points and 1/3 train data. \")\n",
    "    \n",
    "# If you have too few data points, return to step above and choose smaller time granularity"
   ]
  },
  {
   "cell_type": "markdown",
   "metadata": {},
   "source": [
    "## Step 14. Prepare and Save Target Time Series (TTS) <a class=\"anchor\" id=\"TTS\"></a>"
   ]
  },
  {
   "cell_type": "code",
   "execution_count": 31,
   "metadata": {},
   "outputs": [
    {
     "name": "stdout",
     "output_type": "stream",
     "text": [
      "start date = 2019-07-01 00:00:00\n",
      "end date = 2020-02-29 23:00:00\n",
      "(1507488, 3)\n",
      "pickup_hourly    datetime64[ns]\n",
      "pulocationid             object\n",
      "trip_quantity             int32\n",
      "dtype: object\n"
     ]
    },
    {
     "data": {
      "text/html": [
       "<div>\n",
       "<style scoped>\n",
       "    .dataframe tbody tr th:only-of-type {\n",
       "        vertical-align: middle;\n",
       "    }\n",
       "\n",
       "    .dataframe tbody tr th {\n",
       "        vertical-align: top;\n",
       "    }\n",
       "\n",
       "    .dataframe thead th {\n",
       "        text-align: right;\n",
       "    }\n",
       "</style>\n",
       "<table border=\"1\" class=\"dataframe\">\n",
       "  <thead>\n",
       "    <tr style=\"text-align: right;\">\n",
       "      <th></th>\n",
       "      <th>pickup_hourly</th>\n",
       "      <th>pulocationid</th>\n",
       "      <th>trip_quantity</th>\n",
       "    </tr>\n",
       "  </thead>\n",
       "  <tbody>\n",
       "    <tr>\n",
       "      <th>0</th>\n",
       "      <td>2019-07-01</td>\n",
       "      <td>1</td>\n",
       "      <td>0</td>\n",
       "    </tr>\n",
       "    <tr>\n",
       "      <th>1</th>\n",
       "      <td>2019-07-01</td>\n",
       "      <td>10</td>\n",
       "      <td>1</td>\n",
       "    </tr>\n",
       "    <tr>\n",
       "      <th>2</th>\n",
       "      <td>2019-07-01</td>\n",
       "      <td>100</td>\n",
       "      <td>104</td>\n",
       "    </tr>\n",
       "    <tr>\n",
       "      <th>3</th>\n",
       "      <td>2019-07-01</td>\n",
       "      <td>101</td>\n",
       "      <td>0</td>\n",
       "    </tr>\n",
       "    <tr>\n",
       "      <th>4</th>\n",
       "      <td>2019-07-01</td>\n",
       "      <td>102</td>\n",
       "      <td>0</td>\n",
       "    </tr>\n",
       "  </tbody>\n",
       "</table>\n",
       "</div>"
      ],
      "text/plain": [
       "  pickup_hourly pulocationid  trip_quantity\n",
       "0    2019-07-01            1              0\n",
       "1    2019-07-01           10              1\n",
       "2    2019-07-01          100            104\n",
       "3    2019-07-01          101              0\n",
       "4    2019-07-01          102              0"
      ]
     },
     "execution_count": 31,
     "metadata": {},
     "output_type": "execute_result"
    }
   ],
   "source": [
    "## Assemble TTS required columns\n",
    "\n",
    "tts = train_df[[timestamp, item_id, target_value]].copy()\n",
    "tts = tts.groupby(forecast_dims)[[target_value]].sum()\n",
    "    \n",
    "tts.reset_index(inplace=True)\n",
    "print(f\"start date = {tts[timestamp].min()}\")\n",
    "print(f\"end date = {tts[timestamp].max()}\")\n",
    "\n",
    "# check it\n",
    "print(tts.shape)\n",
    "print(tts.dtypes)\n",
    "tts.head(5)"
   ]
  },
  {
   "cell_type": "code",
   "execution_count": 42,
   "metadata": {},
   "outputs": [],
   "source": [
    "# Save tts to S3\n",
    "local_file = \"tts.csv\"\n",
    "# Save merged file locally\n",
    "tts.to_csv(local_file, header=False, index=False)\n",
    "\n",
    "key = f\"{prefix}/v{DATA_VERSION}/{EXPERIMENT_NAME}/tts.csv\"\n",
    "boto3.Session().resource('s3').Bucket(s3_bucket_name).Object(key).upload_file(local_file)"
   ]
  },
  {
   "cell_type": "markdown",
   "metadata": {},
   "source": [
    "## Step 20. Prepare and save RTS (if any) <a class=\"anchor\" id=\"RTS\"></a>\n",
    "\n",
    "Make sure RTS does not have any missing values, even if RTS extends into future. <br>\n",
    "Trick:  create dataframe without any missing values using cross-join, faster than resample technique. <br>"
   ]
  },
  {
   "cell_type": "code",
   "execution_count": 101,
   "metadata": {},
   "outputs": [
    {
     "name": "stdout",
     "output_type": "stream",
     "text": [
      "Requirement already satisfied: dask[dataframe] in /home/ec2-user/anaconda3/envs/python3/lib/python3.6/site-packages (2021.2.0)\n",
      "Requirement already satisfied: pyyaml in /home/ec2-user/anaconda3/envs/python3/lib/python3.6/site-packages (from dask[dataframe]) (5.4.1)\n",
      "Requirement already satisfied: partd>=0.3.10 in /home/ec2-user/anaconda3/envs/python3/lib/python3.6/site-packages (from dask[dataframe]) (1.1.0)\n",
      "Requirement already satisfied: pandas>=0.25.0 in /home/ec2-user/anaconda3/envs/python3/lib/python3.6/site-packages (from dask[dataframe]) (1.1.5)\n",
      "Requirement already satisfied: toolz>=0.8.2 in /home/ec2-user/anaconda3/envs/python3/lib/python3.6/site-packages (from dask[dataframe]) (0.11.1)\n",
      "Requirement already satisfied: fsspec>=0.6.0 in /home/ec2-user/anaconda3/envs/python3/lib/python3.6/site-packages (from dask[dataframe]) (2021.4.0)\n",
      "Requirement already satisfied: numpy>=1.15.1 in /home/ec2-user/anaconda3/envs/python3/lib/python3.6/site-packages (from dask[dataframe]) (1.19.5)\n",
      "Requirement already satisfied: python-dateutil>=2.7.3 in /home/ec2-user/anaconda3/envs/python3/lib/python3.6/site-packages (from pandas>=0.25.0->dask[dataframe]) (2.8.1)\n",
      "Requirement already satisfied: pytz>=2017.2 in /home/ec2-user/anaconda3/envs/python3/lib/python3.6/site-packages (from pandas>=0.25.0->dask[dataframe]) (2021.1)\n",
      "Requirement already satisfied: locket in /home/ec2-user/anaconda3/envs/python3/lib/python3.6/site-packages (from partd>=0.3.10->dask[dataframe]) (0.2.0)\n",
      "Requirement already satisfied: six>=1.5 in /home/ec2-user/anaconda3/envs/python3/lib/python3.6/site-packages (from python-dateutil>=2.7.3->pandas>=0.25.0->dask[dataframe]) (1.15.0)\n",
      "dask: 2021.02.0\n"
     ]
    }
   ],
   "source": [
    "# install dask for faster joins when df is large\n",
    "!pip install \"dask[dataframe]\" \n",
    "import dask\n",
    "import dask.dataframe as dd\n",
    "from dask.diagnostics import ProgressBar\n",
    "print('dask: {}'.format(dask.__version__))"
   ]
  },
  {
   "cell_type": "code",
   "execution_count": 35,
   "metadata": {},
   "outputs": [
    {
     "name": "stdout",
     "output_type": "stream",
     "text": [
      "1\n"
     ]
    }
   ],
   "source": [
    "# if you get memory allocation error in merges below, try overriding default value 0 to 1 for overcommit\n",
    "# see https://www.kernel.org/doc/Documentation/vm/overcommit-accounting\n",
    "# Next 2 commands - open new terminal and do these directly in terminal\n",
    "# !sudo -i \n",
    "# !echo 1 > /proc/sys/vm/overcommit_memory\n",
    "!cat /proc/sys/vm/overcommit_memory"
   ]
  },
  {
   "cell_type": "code",
   "execution_count": 103,
   "metadata": {},
   "outputs": [],
   "source": [
    "# Delete all local files to free up disk space\n",
    "#!rm *.csv"
   ]
  },
  {
   "cell_type": "code",
   "execution_count": 104,
   "metadata": {},
   "outputs": [
    {
     "name": "stdout",
     "output_type": "stream",
     "text": [
      "Number of data points: 5856\n",
      "Start date = 2019-07-01 00:00:00\n",
      "End date = 2020-02-29 23:00:00\n",
      "pickup_hourly    datetime64[ns]\n",
      "dtype: object\n",
      "pickup_hourly    0\n",
      "dtype: int64\n",
      "(5856, 1)\n"
     ]
    },
    {
     "data": {
      "text/html": [
       "<div>\n",
       "<style scoped>\n",
       "    .dataframe tbody tr th:only-of-type {\n",
       "        vertical-align: middle;\n",
       "    }\n",
       "\n",
       "    .dataframe tbody tr th {\n",
       "        vertical-align: top;\n",
       "    }\n",
       "\n",
       "    .dataframe thead th {\n",
       "        text-align: right;\n",
       "    }\n",
       "</style>\n",
       "<table border=\"1\" class=\"dataframe\">\n",
       "  <thead>\n",
       "    <tr style=\"text-align: right;\">\n",
       "      <th></th>\n",
       "      <th>pickup_hourly</th>\n",
       "    </tr>\n",
       "  </thead>\n",
       "  <tbody>\n",
       "    <tr>\n",
       "      <th>2283</th>\n",
       "      <td>2019-10-04 03:00:00</td>\n",
       "    </tr>\n",
       "    <tr>\n",
       "      <th>3961</th>\n",
       "      <td>2019-12-13 01:00:00</td>\n",
       "    </tr>\n",
       "    <tr>\n",
       "      <th>5603</th>\n",
       "      <td>2020-02-19 11:00:00</td>\n",
       "    </tr>\n",
       "    <tr>\n",
       "      <th>5145</th>\n",
       "      <td>2020-01-31 09:00:00</td>\n",
       "    </tr>\n",
       "    <tr>\n",
       "      <th>4851</th>\n",
       "      <td>2020-01-19 03:00:00</td>\n",
       "    </tr>\n",
       "  </tbody>\n",
       "</table>\n",
       "</div>"
      ],
      "text/plain": [
       "           pickup_hourly\n",
       "2283 2019-10-04 03:00:00\n",
       "3961 2019-12-13 01:00:00\n",
       "5603 2020-02-19 11:00:00\n",
       "5145 2020-01-31 09:00:00\n",
       "4851 2020-01-19 03:00:00"
      ]
     },
     "execution_count": 104,
     "metadata": {},
     "output_type": "execute_result"
    }
   ],
   "source": [
    "idx = pd.date_range(start=start_time, end=end_time, freq=FORECAST_FREQ)\n",
    "all_times = pd.DataFrame(index=idx)\n",
    "print (f\"Number of data points: {len(all_times.index)}\")\n",
    "print (f\"Start date = {all_times.index.min()}\")\n",
    "print (f\"End date = {all_times.index.max()}\")\n",
    "\n",
    "# Create timestamp column\n",
    "all_times.reset_index(inplace=True)\n",
    "all_times.columns = [timestamp]\n",
    "\n",
    "# # Create other time-related columns if you need them in RTS\n",
    "# all_times['year_week'] = all_times[timestamp].dt.year.astype(str) + '_' + all_times[timestamp].dt.month.astype(str)\n",
    "\n",
    "print(all_times.dtypes)\n",
    "print(all_times.isna().sum())\n",
    "print(all_times.shape)\n",
    "all_times.sample(5)"
   ]
  },
  {
   "cell_type": "code",
   "execution_count": 105,
   "metadata": {},
   "outputs": [
    {
     "data": {
      "text/plain": [
       "False"
      ]
     },
     "execution_count": 105,
     "metadata": {},
     "output_type": "execute_result"
    }
   ],
   "source": [
    "use_location"
   ]
  },
  {
   "cell_type": "code",
   "execution_count": 106,
   "metadata": {},
   "outputs": [
    {
     "name": "stdout",
     "output_type": "stream",
     "text": [
      "found geolocation pickup_geolocation\n",
      "(260, 2) (260, 2)\n",
      "num items = 260\n",
      "CPU times: user 694 ms, sys: 63.5 ms, total: 757 ms\n",
      "Wall time: 755 ms\n"
     ]
    },
    {
     "data": {
      "text/html": [
       "<div>\n",
       "<style scoped>\n",
       "    .dataframe tbody tr th:only-of-type {\n",
       "        vertical-align: middle;\n",
       "    }\n",
       "\n",
       "    .dataframe tbody tr th {\n",
       "        vertical-align: top;\n",
       "    }\n",
       "\n",
       "    .dataframe thead th {\n",
       "        text-align: right;\n",
       "    }\n",
       "</style>\n",
       "<table border=\"1\" class=\"dataframe\">\n",
       "  <thead>\n",
       "    <tr style=\"text-align: right;\">\n",
       "      <th></th>\n",
       "      <th></th>\n",
       "      <th>pulocationid</th>\n",
       "      <th>pickup_geolocation</th>\n",
       "    </tr>\n",
       "    <tr>\n",
       "      <th>pulocationid</th>\n",
       "      <th>pickup_geolocation</th>\n",
       "      <th></th>\n",
       "      <th></th>\n",
       "    </tr>\n",
       "  </thead>\n",
       "  <tbody>\n",
       "    <tr>\n",
       "      <th>95</th>\n",
       "      <th>40.72346527_-73.84821994</th>\n",
       "      <td>95</td>\n",
       "      <td>40.72346527_-73.84821994</td>\n",
       "    </tr>\n",
       "    <tr>\n",
       "      <th>96</th>\n",
       "      <th>40.69576099_-73.87601222</th>\n",
       "      <td>96</td>\n",
       "      <td>40.69576099_-73.87601222</td>\n",
       "    </tr>\n",
       "    <tr>\n",
       "      <th>97</th>\n",
       "      <th>40.69061566_-73.97557658</th>\n",
       "      <td>97</td>\n",
       "      <td>40.69061566_-73.97557658</td>\n",
       "    </tr>\n",
       "    <tr>\n",
       "      <th>98</th>\n",
       "      <th>40.73384122_-73.77955023</th>\n",
       "      <td>98</td>\n",
       "      <td>40.73384122_-73.77955023</td>\n",
       "    </tr>\n",
       "    <tr>\n",
       "      <th>99</th>\n",
       "      <th>40.57961795_-74.18770274</th>\n",
       "      <td>99</td>\n",
       "      <td>40.57961795_-74.18770274</td>\n",
       "    </tr>\n",
       "  </tbody>\n",
       "</table>\n",
       "</div>"
      ],
      "text/plain": [
       "                                      pulocationid        pickup_geolocation\n",
       "pulocationid pickup_geolocation                                             \n",
       "95           40.72346527_-73.84821994           95  40.72346527_-73.84821994\n",
       "96           40.69576099_-73.87601222           96  40.69576099_-73.87601222\n",
       "97           40.69061566_-73.97557658           97  40.69061566_-73.97557658\n",
       "98           40.73384122_-73.77955023           98  40.73384122_-73.77955023\n",
       "99           40.57961795_-74.18770274           99  40.57961795_-74.18770274"
      ]
     },
     "execution_count": 106,
     "metadata": {},
     "output_type": "execute_result"
    }
   ],
   "source": [
    "%%time\n",
    "# create master template of all possible locations and items\n",
    "try:\n",
    "    print(f\"found geolocation {geolocation}\")\n",
    "    items = df.groupby([item_id, geolocation])[[item_id, geolocation]].min()\n",
    "except:\n",
    "    items = pd.DataFrame(list(df[item_id].unique()))\n",
    "    items.columns = [item_id]\n",
    "# print(items.head(2))\n",
    "master_records = items.copy()\n",
    "print(master_records.shape, items.shape)\n",
    "\n",
    "# check you did the right thing\n",
    "num_items = len(master_records[item_id].value_counts())\n",
    "print(f\"num items = {num_items}\")\n",
    "master_records.tail()\n",
    "\n",
    "# CPU times: user 688 ms, sys: 66.7 ms, total: 755 ms\n",
    "# Wall time: 752 ms"
   ]
  },
  {
   "cell_type": "code",
   "execution_count": 107,
   "metadata": {},
   "outputs": [
    {
     "name": "stdout",
     "output_type": "stream",
     "text": [
      "doing the merge...\n",
      "done w/ merge...\n",
      "(1522560, 3)\n",
      "checking nulls...\n",
      "pulocationid          0\n",
      "pickup_geolocation    0\n",
      "pickup_hourly         0\n",
      "dtype: int64\n",
      "CPU times: user 266 ms, sys: 24.1 ms, total: 290 ms\n",
      "Wall time: 289 ms\n"
     ]
    },
    {
     "data": {
      "text/html": [
       "<div>\n",
       "<style scoped>\n",
       "    .dataframe tbody tr th:only-of-type {\n",
       "        vertical-align: middle;\n",
       "    }\n",
       "\n",
       "    .dataframe tbody tr th {\n",
       "        vertical-align: top;\n",
       "    }\n",
       "\n",
       "    .dataframe thead th {\n",
       "        text-align: right;\n",
       "    }\n",
       "</style>\n",
       "<table border=\"1\" class=\"dataframe\">\n",
       "  <thead>\n",
       "    <tr style=\"text-align: right;\">\n",
       "      <th></th>\n",
       "      <th>pulocationid</th>\n",
       "      <th>pickup_geolocation</th>\n",
       "      <th>pickup_hourly</th>\n",
       "    </tr>\n",
       "  </thead>\n",
       "  <tbody>\n",
       "    <tr>\n",
       "      <th>1522555</th>\n",
       "      <td>99</td>\n",
       "      <td>40.57961795_-74.18770274</td>\n",
       "      <td>2020-02-29 19:00:00</td>\n",
       "    </tr>\n",
       "    <tr>\n",
       "      <th>1522556</th>\n",
       "      <td>99</td>\n",
       "      <td>40.57961795_-74.18770274</td>\n",
       "      <td>2020-02-29 20:00:00</td>\n",
       "    </tr>\n",
       "    <tr>\n",
       "      <th>1522557</th>\n",
       "      <td>99</td>\n",
       "      <td>40.57961795_-74.18770274</td>\n",
       "      <td>2020-02-29 21:00:00</td>\n",
       "    </tr>\n",
       "    <tr>\n",
       "      <th>1522558</th>\n",
       "      <td>99</td>\n",
       "      <td>40.57961795_-74.18770274</td>\n",
       "      <td>2020-02-29 22:00:00</td>\n",
       "    </tr>\n",
       "    <tr>\n",
       "      <th>1522559</th>\n",
       "      <td>99</td>\n",
       "      <td>40.57961795_-74.18770274</td>\n",
       "      <td>2020-02-29 23:00:00</td>\n",
       "    </tr>\n",
       "  </tbody>\n",
       "</table>\n",
       "</div>"
      ],
      "text/plain": [
       "        pulocationid        pickup_geolocation       pickup_hourly\n",
       "1522555           99  40.57961795_-74.18770274 2020-02-29 19:00:00\n",
       "1522556           99  40.57961795_-74.18770274 2020-02-29 20:00:00\n",
       "1522557           99  40.57961795_-74.18770274 2020-02-29 21:00:00\n",
       "1522558           99  40.57961795_-74.18770274 2020-02-29 22:00:00\n",
       "1522559           99  40.57961795_-74.18770274 2020-02-29 23:00:00"
      ]
     },
     "execution_count": 107,
     "metadata": {},
     "output_type": "execute_result"
    }
   ],
   "source": [
    "%%time\n",
    "# cross-join to create master template of all possible locations and items and times\n",
    "all_times['key'] = \"1\"\n",
    "master_records['key'] = \"1\"\n",
    "all_times.set_index('key', inplace=True)\n",
    "master_records.set_index('key', inplace=True)\n",
    "\n",
    "# Do the cross-join\n",
    "print(\"doing the merge...\")\n",
    "full_history = master_records.merge(all_times, how=\"outer\", left_index=True, right_index=True)\n",
    "print(\"done w/ merge...\")\n",
    "full_history.reset_index(inplace=True, drop=True)\n",
    "\n",
    "# make sure you don't have any nulls\n",
    "print(full_history.shape)\n",
    "print(\"checking nulls...\")\n",
    "print(full_history.isna().sum())\n",
    "full_history.tail()\n",
    "\n",
    "# CPU times: user 265 ms, sys: 27.6 ms, total: 293 ms\n",
    "# Wall time: 290 ms"
   ]
  },
  {
   "cell_type": "code",
   "execution_count": 108,
   "metadata": {},
   "outputs": [
    {
     "name": "stdout",
     "output_type": "stream",
     "text": [
      "(1507488, 1) (1507488, 9)\n"
     ]
    },
    {
     "data": {
      "text/html": [
       "<div>\n",
       "<style scoped>\n",
       "    .dataframe tbody tr th:only-of-type {\n",
       "        vertical-align: middle;\n",
       "    }\n",
       "\n",
       "    .dataframe tbody tr th {\n",
       "        vertical-align: top;\n",
       "    }\n",
       "\n",
       "    .dataframe thead th {\n",
       "        text-align: right;\n",
       "    }\n",
       "</style>\n",
       "<table border=\"1\" class=\"dataframe\">\n",
       "  <thead>\n",
       "    <tr style=\"text-align: right;\">\n",
       "      <th></th>\n",
       "      <th>trip_quantity</th>\n",
       "    </tr>\n",
       "    <tr>\n",
       "      <th>ts_key</th>\n",
       "      <th></th>\n",
       "    </tr>\n",
       "  </thead>\n",
       "  <tbody>\n",
       "    <tr>\n",
       "      <th>2019-07-01 00:00:00-1</th>\n",
       "      <td>0</td>\n",
       "    </tr>\n",
       "    <tr>\n",
       "      <th>2019-07-01 00:00:00-10</th>\n",
       "      <td>1</td>\n",
       "    </tr>\n",
       "  </tbody>\n",
       "</table>\n",
       "</div>"
      ],
      "text/plain": [
       "                        trip_quantity\n",
       "ts_key                               \n",
       "2019-07-01 00:00:00-1               0\n",
       "2019-07-01 00:00:00-10              1"
      ]
     },
     "metadata": {},
     "output_type": "display_data"
    }
   ],
   "source": [
    "# create small df of target_values - to merge later using dask\n",
    "temp_target = df[forecast_dims + [target_value]].copy()\n",
    "# add key for faster join\n",
    "if use_location:\n",
    "    temp_target['ts_key'] = temp_target[timestamp].astype(str) + \"-\" + temp_target[item_id] + \"-\" + temp_target[location_id]\n",
    "else:\n",
    "    temp_target['ts_key'] = temp_target[timestamp].astype(str) + \"-\" + temp_target[item_id]\n",
    "temp_target = temp_target.groupby('ts_key').sum()\n",
    "# temp_target.drop(forecast_dims, inplace=True, axis=1)\n",
    "# temp_target.set_index('ts_key', inplace=True)\n",
    "print(temp_target.shape, df.shape)\n",
    "display(temp_target.head(2))"
   ]
  },
  {
   "cell_type": "markdown",
   "metadata": {},
   "source": [
    "<b> Parallelization for faster merge </b><br>\n",
    "Below, I used dask.  I also tried ray through modin library.  I found error when adding a new column to modin dataframe.  Maybe by the time you use this notebook the modin/ray problem will be solved.\n",
    "https://github.com/modin-project/modin/issues/2442\n",
    "\n",
    "For reference, here are dask best practices:\n",
    "<ul>\n",
    "    <li>Choose partitions to be #items if your time series have more dimensions than just item_id, see <a href=\"https://docs.dask.org/en/latest/best-practices.html\" target=\"_blank\">https://docs.dask.org/en/latest/best-practices.html</a></li>\n",
    "    <li>Make sure reset_index is only done in pandas and not dask, see <a href=\"https://docs.dask.org/en/latest/dataframe-best-practices.html\" target=\"_blank\">https://docs.dask.org/en/latest/dataframe-best-practices.html</a></li>\n",
    "    </ul>"
   ]
  },
  {
   "cell_type": "code",
   "execution_count": 109,
   "metadata": {},
   "outputs": [
    {
     "name": "stdout",
     "output_type": "stream",
     "text": [
      "<class 'pandas.core.frame.DataFrame'>\n",
      "using num_partitions = 1\n",
      "<class 'dask.dataframe.core.DataFrame'>\n",
      "(Delayed('int-0bc4b1b1-cfe7-4803-830d-5e4e47ecf4d4'), 4) (1522560, 3)\n"
     ]
    },
    {
     "data": {
      "text/html": [
       "<div>\n",
       "<style scoped>\n",
       "    .dataframe tbody tr th:only-of-type {\n",
       "        vertical-align: middle;\n",
       "    }\n",
       "\n",
       "    .dataframe tbody tr th {\n",
       "        vertical-align: top;\n",
       "    }\n",
       "\n",
       "    .dataframe thead th {\n",
       "        text-align: right;\n",
       "    }\n",
       "</style>\n",
       "<table border=\"1\" class=\"dataframe\">\n",
       "  <thead>\n",
       "    <tr style=\"text-align: right;\">\n",
       "      <th></th>\n",
       "      <th>pulocationid</th>\n",
       "      <th>pickup_geolocation</th>\n",
       "      <th>pickup_hourly</th>\n",
       "      <th>ts_key</th>\n",
       "    </tr>\n",
       "  </thead>\n",
       "  <tbody>\n",
       "    <tr>\n",
       "      <th>0</th>\n",
       "      <td>1</td>\n",
       "      <td>40.68951565_-74.17678575</td>\n",
       "      <td>2019-07-01 00:00:00</td>\n",
       "      <td>2019-07-01 00:00:00-1</td>\n",
       "    </tr>\n",
       "    <tr>\n",
       "      <th>1</th>\n",
       "      <td>1</td>\n",
       "      <td>40.68951565_-74.17678575</td>\n",
       "      <td>2019-07-01 01:00:00</td>\n",
       "      <td>2019-07-01 01:00:00-1</td>\n",
       "    </tr>\n",
       "  </tbody>\n",
       "</table>\n",
       "</div>"
      ],
      "text/plain": [
       "  pulocationid        pickup_geolocation       pickup_hourly                 ts_key\n",
       "0            1  40.68951565_-74.17678575 2019-07-01 00:00:00  2019-07-01 00:00:00-1\n",
       "1            1  40.68951565_-74.17678575 2019-07-01 01:00:00  2019-07-01 01:00:00-1"
      ]
     },
     "metadata": {},
     "output_type": "display_data"
    },
    {
     "name": "stdout",
     "output_type": "stream",
     "text": [
      "CPU times: user 2.9 s, sys: 211 ms, total: 3.11 s\n",
      "Wall time: 3.09 s\n"
     ]
    }
   ],
   "source": [
    "%%time\n",
    "\n",
    "# USING dask\n",
    "\n",
    "# convert pandas to dask df\n",
    "print(type(full_history))\n",
    "if use_location:\n",
    "    num_partitions = num_items\n",
    "else:\n",
    "    num_partitions = 1\n",
    "print(f\"using num_partitions = {num_partitions}\")\n",
    "large_df = dd.from_pandas(full_history, npartitions=num_partitions)\n",
    "print(type(large_df))\n",
    "\n",
    "# add key for faster join with target_value\n",
    "if use_location:\n",
    "    large_df['ts_key'] = large_df[timestamp].astype(str) + \"-\" + large_df[item_id] + \"-\" + large_df[location_id]\n",
    "else:\n",
    "    large_df['ts_key'] = large_df[timestamp].astype(str) + \"-\" + large_df[item_id]   \n",
    "print(large_df.shape, full_history.shape)\n",
    "display(large_df.head(2))\n",
    "\n",
    "# CPU times: user 2.94 s, sys: 178 ms, total: 3.12 s\n",
    "# Wall time: 3.11 s"
   ]
  },
  {
   "cell_type": "code",
   "execution_count": 110,
   "metadata": {},
   "outputs": [
    {
     "name": "stdout",
     "output_type": "stream",
     "text": [
      "(Delayed('int-317d0ebc-af79-4446-b0ab-6553bbc1e526'), 5) (1522560, 3)\n"
     ]
    },
    {
     "data": {
      "text/html": [
       "<div>\n",
       "<style scoped>\n",
       "    .dataframe tbody tr th:only-of-type {\n",
       "        vertical-align: middle;\n",
       "    }\n",
       "\n",
       "    .dataframe tbody tr th {\n",
       "        vertical-align: top;\n",
       "    }\n",
       "\n",
       "    .dataframe thead th {\n",
       "        text-align: right;\n",
       "    }\n",
       "</style>\n",
       "<table border=\"1\" class=\"dataframe\">\n",
       "  <thead>\n",
       "    <tr style=\"text-align: right;\">\n",
       "      <th></th>\n",
       "      <th>pulocationid</th>\n",
       "      <th>pickup_geolocation</th>\n",
       "      <th>pickup_hourly</th>\n",
       "      <th>ts_key</th>\n",
       "      <th>trip_quantity</th>\n",
       "    </tr>\n",
       "  </thead>\n",
       "  <tbody>\n",
       "    <tr>\n",
       "      <th>0</th>\n",
       "      <td>1</td>\n",
       "      <td>40.68951565_-74.17678575</td>\n",
       "      <td>2019-07-01 00:00:00</td>\n",
       "      <td>2019-07-01 00:00:00-1</td>\n",
       "      <td>0.00000</td>\n",
       "    </tr>\n",
       "    <tr>\n",
       "      <th>1</th>\n",
       "      <td>1</td>\n",
       "      <td>40.68951565_-74.17678575</td>\n",
       "      <td>2019-07-01 01:00:00</td>\n",
       "      <td>2019-07-01 01:00:00-1</td>\n",
       "      <td>0.00000</td>\n",
       "    </tr>\n",
       "    <tr>\n",
       "      <th>2</th>\n",
       "      <td>1</td>\n",
       "      <td>40.68951565_-74.17678575</td>\n",
       "      <td>2019-07-01 02:00:00</td>\n",
       "      <td>2019-07-01 02:00:00-1</td>\n",
       "      <td>0.00000</td>\n",
       "    </tr>\n",
       "  </tbody>\n",
       "</table>\n",
       "</div>"
      ],
      "text/plain": [
       "  pulocationid        pickup_geolocation       pickup_hourly                 ts_key  trip_quantity\n",
       "0            1  40.68951565_-74.17678575 2019-07-01 00:00:00  2019-07-01 00:00:00-1        0.00000\n",
       "1            1  40.68951565_-74.17678575 2019-07-01 01:00:00  2019-07-01 01:00:00-1        0.00000\n",
       "2            1  40.68951565_-74.17678575 2019-07-01 02:00:00  2019-07-01 02:00:00-1        0.00000"
      ]
     },
     "metadata": {},
     "output_type": "display_data"
    },
    {
     "name": "stdout",
     "output_type": "stream",
     "text": [
      "CPU times: user 5.07 s, sys: 236 ms, total: 5.3 s\n",
      "Wall time: 5.28 s\n"
     ]
    }
   ],
   "source": [
    "%%time \n",
    "\n",
    "# merge in original target_value\n",
    "temp = large_df.merge(temp_target, how=\"left\", right_index=True, left_on=\"ts_key\")\n",
    "print(temp.shape, full_history.shape)\n",
    "display(temp.head(3))\n",
    "\n",
    "# CPU times: user 637 ms, sys: 8.18 ms, total: 645 ms\n",
    "# Wall time: 640 ms"
   ]
  },
  {
   "cell_type": "code",
   "execution_count": 111,
   "metadata": {},
   "outputs": [
    {
     "name": "stdout",
     "output_type": "stream",
     "text": [
      "<class 'dask.dataframe.core.DataFrame'>\n",
      "<class 'pandas.core.frame.DataFrame'>\n",
      "(1522560, 4) (1522560, 3)\n",
      "pulocationid              0\n",
      "pickup_geolocation        0\n",
      "pickup_hourly             0\n",
      "trip_quantity         15072\n",
      "dtype: int64\n"
     ]
    },
    {
     "data": {
      "text/html": [
       "<div>\n",
       "<style scoped>\n",
       "    .dataframe tbody tr th:only-of-type {\n",
       "        vertical-align: middle;\n",
       "    }\n",
       "\n",
       "    .dataframe tbody tr th {\n",
       "        vertical-align: top;\n",
       "    }\n",
       "\n",
       "    .dataframe thead th {\n",
       "        text-align: right;\n",
       "    }\n",
       "</style>\n",
       "<table border=\"1\" class=\"dataframe\">\n",
       "  <thead>\n",
       "    <tr style=\"text-align: right;\">\n",
       "      <th></th>\n",
       "      <th>pulocationid</th>\n",
       "      <th>pickup_geolocation</th>\n",
       "      <th>pickup_hourly</th>\n",
       "      <th>trip_quantity</th>\n",
       "    </tr>\n",
       "  </thead>\n",
       "  <tbody>\n",
       "    <tr>\n",
       "      <th>1459552</th>\n",
       "      <td>9</td>\n",
       "      <td>40.75441093_-73.78802025</td>\n",
       "      <td>2019-08-28 16:00:00</td>\n",
       "      <td>0.00000</td>\n",
       "    </tr>\n",
       "    <tr>\n",
       "      <th>656928</th>\n",
       "      <td>202</td>\n",
       "      <td>40.76116791_-73.95041049</td>\n",
       "      <td>2019-08-14 00:00:00</td>\n",
       "      <td>0.00000</td>\n",
       "    </tr>\n",
       "    <tr>\n",
       "      <th>1288257</th>\n",
       "      <td>62</td>\n",
       "      <td>40.66708956_-73.94926997</td>\n",
       "      <td>2020-02-27 09:00:00</td>\n",
       "      <td>0.00000</td>\n",
       "    </tr>\n",
       "  </tbody>\n",
       "</table>\n",
       "</div>"
      ],
      "text/plain": [
       "        pulocationid        pickup_geolocation       pickup_hourly  trip_quantity\n",
       "1459552            9  40.75441093_-73.78802025 2019-08-28 16:00:00        0.00000\n",
       "656928           202  40.76116791_-73.95041049 2019-08-14 00:00:00        0.00000\n",
       "1288257           62  40.66708956_-73.94926997 2020-02-27 09:00:00        0.00000"
      ]
     },
     "metadata": {},
     "output_type": "display_data"
    },
    {
     "name": "stdout",
     "output_type": "stream",
     "text": [
      "CPU times: user 4.78 s, sys: 266 ms, total: 5.04 s\n",
      "Wall time: 5.01 s\n"
     ]
    },
    {
     "data": {
      "text/plain": [
       "count   1507488.00000\n",
       "mean         33.16301\n",
       "std          94.59279\n",
       "min           0.00000\n",
       "25%           0.00000\n",
       "50%           0.00000\n",
       "75%           6.00000\n",
       "max        2085.00000\n",
       "Name: trip_quantity, dtype: float64"
      ]
     },
     "execution_count": 111,
     "metadata": {},
     "output_type": "execute_result"
    }
   ],
   "source": [
    "%%time \n",
    "\n",
    "# convert dask df back to pandas df\n",
    "# # Below is too small !?  rows got dropped, why?\n",
    "print(type(temp))\n",
    "temp3 = temp.compute()\n",
    "print(type(temp3))\n",
    "temp3.drop('ts_key', axis=1, inplace=True)\n",
    "print(temp3.shape, full_history.shape)\n",
    "\n",
    "# check nulls\n",
    "print(temp3.isna().sum())\n",
    "display(temp3.sample(3))\n",
    "temp3[target_value].describe()\n",
    "\n",
    "# CPU times: user 4.48 s, sys: 238 ms, total: 4.72 s\n",
    "# Wall time: 4.7 s"
   ]
  },
  {
   "cell_type": "code",
   "execution_count": 112,
   "metadata": {},
   "outputs": [
    {
     "data": {
      "text/plain": [
       "count   1507488.00000\n",
       "mean         33.16301\n",
       "std          94.59279\n",
       "min           0.00000\n",
       "25%           0.00000\n",
       "50%           0.00000\n",
       "75%           6.00000\n",
       "max        2085.00000\n",
       "Name: trip_quantity, dtype: float64"
      ]
     },
     "execution_count": 112,
     "metadata": {},
     "output_type": "execute_result"
    }
   ],
   "source": [
    "# Check you did the right thing\n",
    "# Check original target_values\n",
    "df[target_value].describe()"
   ]
  },
  {
   "cell_type": "code",
   "execution_count": 113,
   "metadata": {},
   "outputs": [
    {
     "name": "stdout",
     "output_type": "stream",
     "text": [
      "(1522560, 3)\n",
      "(1522560, 4)\n",
      "<class 'pandas.core.frame.DataFrame'>\n"
     ]
    },
    {
     "data": {
      "text/html": [
       "<div>\n",
       "<style scoped>\n",
       "    .dataframe tbody tr th:only-of-type {\n",
       "        vertical-align: middle;\n",
       "    }\n",
       "\n",
       "    .dataframe tbody tr th {\n",
       "        vertical-align: top;\n",
       "    }\n",
       "\n",
       "    .dataframe thead th {\n",
       "        text-align: right;\n",
       "    }\n",
       "</style>\n",
       "<table border=\"1\" class=\"dataframe\">\n",
       "  <thead>\n",
       "    <tr style=\"text-align: right;\">\n",
       "      <th></th>\n",
       "      <th>pulocationid</th>\n",
       "      <th>pickup_geolocation</th>\n",
       "      <th>pickup_hourly</th>\n",
       "      <th>trip_quantity</th>\n",
       "    </tr>\n",
       "  </thead>\n",
       "  <tbody>\n",
       "    <tr>\n",
       "      <th>0</th>\n",
       "      <td>1</td>\n",
       "      <td>40.68951565_-74.17678575</td>\n",
       "      <td>2019-07-01 00:00:00</td>\n",
       "      <td>0.00000</td>\n",
       "    </tr>\n",
       "    <tr>\n",
       "      <th>1</th>\n",
       "      <td>1</td>\n",
       "      <td>40.68951565_-74.17678575</td>\n",
       "      <td>2019-07-01 01:00:00</td>\n",
       "      <td>0.00000</td>\n",
       "    </tr>\n",
       "  </tbody>\n",
       "</table>\n",
       "</div>"
      ],
      "text/plain": [
       "  pulocationid        pickup_geolocation       pickup_hourly  trip_quantity\n",
       "0            1  40.68951565_-74.17678575 2019-07-01 00:00:00        0.00000\n",
       "1            1  40.68951565_-74.17678575 2019-07-01 01:00:00        0.00000"
      ]
     },
     "execution_count": 113,
     "metadata": {},
     "output_type": "execute_result"
    }
   ],
   "source": [
    "# Careful!!\n",
    "# Really replace full_history with merged values\n",
    "print(full_history.shape)\n",
    "full_history = temp3.copy()\n",
    "print(full_history.shape)\n",
    "print(type(full_history))\n",
    "del temp, temp_target, temp3\n",
    "full_history.head(2)"
   ]
  },
  {
   "cell_type": "code",
   "execution_count": 114,
   "metadata": {},
   "outputs": [
    {
     "name": "stdout",
     "output_type": "stream",
     "text": [
      "        pulocationid        pickup_geolocation       pickup_hourly  trip_quantity day_of_week hour_of_day day_hour_name  weekend_flag  is_sun_mon\n",
      "1520131           99  40.57961795_-74.18770274 2019-11-20 19:00:00        0.00000   Wednesday          19  Wednesday_19             0           0\n",
      "1160494           43  40.78245974_-73.96557218 2019-08-11 22:00:00       69.00000      Sunday          22     Sunday_22             1           1\n",
      "884377           238  40.79176625_-73.97281452 2019-07-06 01:00:00       47.00000    Saturday           1    Saturday_1             1           0\n",
      "767776            22  40.60962734_-73.99429702 2019-07-27 16:00:00        1.00000    Saturday          16   Saturday_16             1           0\n",
      "422509           167  40.82798804_-73.90444259 2019-08-06 13:00:00        0.00000     Tuesday          13    Tuesday_13             0           0\n"
     ]
    }
   ],
   "source": [
    "####\n",
    "# EDIT THIS FOR YOUR DATA\n",
    "####\n",
    "\n",
    "# Create other time-related columns if you need them in RTS\n",
    "\n",
    "# Candidate variables for weekly data\n",
    "# full_history['month'] = full_history[timestamp].dt.month.astype(str)\n",
    "# full_history['year'] = full_history[timestamp].dt.year.astype(str)\n",
    "# full_history['quarter'] = full_history[timestamp].dt.quarter.astype(str)\n",
    "# full_history['year_month'] = full_history['year'] + '_' + full_history['month']\n",
    "# full_history['year_quarter'] = full_history['year'] + '_' + full_history['quarter']\n",
    "\n",
    "# Candidate variables for hourly data\n",
    "full_history['day_of_week'] = full_history[timestamp].dt.day_name().astype(str)\n",
    "full_history['hour_of_day'] = full_history[timestamp].dt.hour.astype(str)\n",
    "full_history['day_hour_name'] = full_history['day_of_week'] + \"_\" + full_history['hour_of_day']\n",
    "full_history['weekend_flag'] = full_history[timestamp].dt.dayofweek\n",
    "full_history['weekend_flag'] = (full_history['weekend_flag'] >= 5).astype(int)\n",
    "full_history['is_sun_mon'] = 0\n",
    "full_history.loc[((full_history.day_of_week==\"Sunday\") | (full_history.day_of_week==\"Monday\")), 'is_sun_mon'] = 1\n",
    "\n",
    "print(full_history.sample(5))"
   ]
  },
  {
   "cell_type": "code",
   "execution_count": 115,
   "metadata": {},
   "outputs": [],
   "source": [
    "# Example - create feature from target_value that is sometimes useful\n",
    "\n",
    "# # calculate mean sales per item per year\n",
    "# TODO: add normalization here\n",
    "\n",
    "# temp_year_item = train_df[['year', item_id, target_value]].copy()\n",
    "# temp_year_item.year = temp_year_item.year.astype(str)\n",
    "# temp_year_item = temp_year_item.groupby(['year', item_id]).mean()\n",
    "# temp_year_item.reset_index(inplace=True)\n",
    "# temp_year_item.rename(columns={target_value:\"count_year_item\"}, inplace=True)\n",
    "# print(temp_year_item.dtypes)\n",
    "# temp_year_item.sample(2)\n"
   ]
  },
  {
   "cell_type": "code",
   "execution_count": 116,
   "metadata": {},
   "outputs": [],
   "source": [
    "# # merge in year-item trend\n",
    "\n",
    "# temp2 = full_history.copy()\n",
    "# # temp.drop(\"count_day_loc_item\", inplace=True, axis=1)\n",
    "# print(temp2.shape)\n",
    "# temp = temp2.merge(temp_year_item, how=\"left\", on=[\"year\", item_id])\n",
    "# print(temp.shape, temp_year_item.shape)\n",
    "\n",
    "# # check nulls\n",
    "# print(temp.isna().sum())\n",
    "# temp.sample(5)"
   ]
  },
  {
   "cell_type": "code",
   "execution_count": 117,
   "metadata": {},
   "outputs": [],
   "source": [
    "# # Careful!!\n",
    "# # Really replace full_history with merged values\n",
    "# full_history = temp.copy()\n",
    "# full_history.head(2)"
   ]
  },
  {
   "cell_type": "code",
   "execution_count": 118,
   "metadata": {},
   "outputs": [
    {
     "name": "stdout",
     "output_type": "stream",
     "text": [
      "(5270, 9) (1522560, 9)\n"
     ]
    },
    {
     "data": {
      "text/html": [
       "<div>\n",
       "<style scoped>\n",
       "    .dataframe tbody tr th:only-of-type {\n",
       "        vertical-align: middle;\n",
       "    }\n",
       "\n",
       "    .dataframe tbody tr th {\n",
       "        vertical-align: top;\n",
       "    }\n",
       "\n",
       "    .dataframe thead th {\n",
       "        text-align: right;\n",
       "    }\n",
       "</style>\n",
       "<table border=\"1\" class=\"dataframe\">\n",
       "  <thead>\n",
       "    <tr style=\"text-align: right;\">\n",
       "      <th></th>\n",
       "      <th>pickup_hourly</th>\n",
       "      <th>trip_quantity</th>\n",
       "      <th>weekend_flag</th>\n",
       "      <th>is_sun_mon</th>\n",
       "    </tr>\n",
       "  </thead>\n",
       "  <tbody>\n",
       "    <tr>\n",
       "      <th>298</th>\n",
       "      <td>2020-01-22 11:00:00</td>\n",
       "      <td>824.00000</td>\n",
       "      <td>0</td>\n",
       "      <td>0</td>\n",
       "    </tr>\n",
       "    <tr>\n",
       "      <th>925</th>\n",
       "      <td>2020-02-17 14:00:00</td>\n",
       "      <td>762.00000</td>\n",
       "      <td>0</td>\n",
       "      <td>5</td>\n",
       "    </tr>\n",
       "    <tr>\n",
       "      <th>746</th>\n",
       "      <td>2020-02-10 03:00:00</td>\n",
       "      <td>88.00000</td>\n",
       "      <td>0</td>\n",
       "      <td>5</td>\n",
       "    </tr>\n",
       "  </tbody>\n",
       "</table>\n",
       "</div>"
      ],
      "text/plain": [
       "          pickup_hourly  trip_quantity  weekend_flag  is_sun_mon\n",
       "298 2020-01-22 11:00:00      824.00000             0           0\n",
       "925 2020-02-17 14:00:00      762.00000             0           5\n",
       "746 2020-02-10 03:00:00       88.00000             0           5"
      ]
     },
     "execution_count": 118,
     "metadata": {},
     "output_type": "execute_result"
    }
   ],
   "source": [
    "# zoom-in time slice so you can see patterns\n",
    "df_plot = full_history.loc[(full_history[item_id].isin(random_items)), :].copy()\n",
    "df_plot = full_history.loc[((full_history[timestamp]>\"2020-01-10\")\n",
    "                           & (full_history[timestamp]<end_time_train)\n",
    "                           & (full_history[item_id].isin(random_items))), :].copy()\n",
    "print(df_plot.shape, full_history.shape)\n",
    "df_plot = df_plot.groupby([timestamp]).sum()\n",
    "df_plot.reset_index(inplace=True)\n",
    "df_plot.sample(3)"
   ]
  },
  {
   "cell_type": "code",
   "execution_count": 119,
   "metadata": {},
   "outputs": [
    {
     "data": {
      "text/plain": [
       "<AxesSubplot:>"
      ]
     },
     "execution_count": 119,
     "metadata": {},
     "output_type": "execute_result"
    },
    {
     "data": {
      "image/png": "[encoded data removed]",
      "text/plain": [
       "<Figure size 432x288 with 1 Axes>"
      ]
     },
     "metadata": {
      "needs_background": "light"
     },
     "output_type": "display_data"
    }
   ],
   "source": [
    "#check: target_value distribution in full dataframe looks same as original\n",
    "df_plot[target_value].hist(bins=100)"
   ]
  },
  {
   "cell_type": "code",
   "execution_count": 120,
   "metadata": {},
   "outputs": [
    {
     "data": {
      "image/png": "[encoded data removed]",
      "text/plain": [
       "<Figure size 1080x576 with 2 Axes>"
      ]
     },
     "metadata": {
      "needs_background": "light"
     },
     "output_type": "display_data"
    }
   ],
   "source": [
    "# EXAMPLE HOURLY RTS\n",
    "\n",
    "# Visualize candidate RTS variables\n",
    "plt.figure(figsize=(15, 8))\n",
    "ax = plt.gca()\n",
    "df_plot.plot(x=timestamp, y=target_value, ax=ax);\n",
    "ax2 = ax.twinx()\n",
    "df_plot.plot(x=timestamp, y='weekend_flag', color='red', alpha=0.3, ax=ax2);"
   ]
  },
  {
   "cell_type": "code",
   "execution_count": 121,
   "metadata": {},
   "outputs": [
    {
     "data": {
      "image/png": "[encoded data removed]",
      "text/plain": [
       "<Figure size 1080x576 with 2 Axes>"
      ]
     },
     "metadata": {
      "needs_background": "light"
     },
     "output_type": "display_data"
    }
   ],
   "source": [
    "# EXAMPLE HOURLY RTS\n",
    "\n",
    "# Visualize candidate RTS variables is_sun_mon\n",
    "plt.figure(figsize=(15, 8))\n",
    "ax = plt.gca()\n",
    "df_plot.plot(x=timestamp, y=target_value, ax=ax);\n",
    "ax2 = ax.twinx()\n",
    "df_plot.plot(x=timestamp, y='is_sun_mon', color='red', alpha=0.3, ax=ax2);"
   ]
  },
  {
   "cell_type": "markdown",
   "metadata": {},
   "source": [
    "It looks like lowest taxis rides are a combination of day and hour that seems to matter, not just day of week."
   ]
  },
  {
   "cell_type": "code",
   "execution_count": 122,
   "metadata": {},
   "outputs": [
    {
     "data": {
      "text/html": [
       "<div>\n",
       "<style scoped>\n",
       "    .dataframe tbody tr th:only-of-type {\n",
       "        vertical-align: middle;\n",
       "    }\n",
       "\n",
       "    .dataframe tbody tr th {\n",
       "        vertical-align: top;\n",
       "    }\n",
       "\n",
       "    .dataframe thead th {\n",
       "        text-align: right;\n",
       "    }\n",
       "</style>\n",
       "<table border=\"1\" class=\"dataframe\">\n",
       "  <thead>\n",
       "    <tr style=\"text-align: right;\">\n",
       "      <th></th>\n",
       "      <th>pulocationid</th>\n",
       "      <th>pickup_geolocation</th>\n",
       "      <th>pickup_hourly</th>\n",
       "      <th>trip_quantity</th>\n",
       "      <th>day_of_week</th>\n",
       "      <th>hour_of_day</th>\n",
       "      <th>day_hour_name</th>\n",
       "      <th>weekend_flag</th>\n",
       "      <th>is_sun_mon</th>\n",
       "    </tr>\n",
       "  </thead>\n",
       "  <tbody>\n",
       "    <tr>\n",
       "      <th>0</th>\n",
       "      <td>1</td>\n",
       "      <td>40.68951565_-74.17678575</td>\n",
       "      <td>2019-07-01</td>\n",
       "      <td>0.00000</td>\n",
       "      <td>Monday</td>\n",
       "      <td>0</td>\n",
       "      <td>Monday_0</td>\n",
       "      <td>0</td>\n",
       "      <td>1</td>\n",
       "    </tr>\n",
       "  </tbody>\n",
       "</table>\n",
       "</div>"
      ],
      "text/plain": [
       "  pulocationid        pickup_geolocation pickup_hourly  trip_quantity day_of_week hour_of_day day_hour_name  weekend_flag  is_sun_mon\n",
       "0            1  40.68951565_-74.17678575    2019-07-01        0.00000      Monday           0      Monday_0             0           1"
      ]
     },
     "execution_count": 122,
     "metadata": {},
     "output_type": "execute_result"
    }
   ],
   "source": [
    "full_history.head(1)"
   ]
  },
  {
   "cell_type": "code",
   "execution_count": 123,
   "metadata": {},
   "outputs": [
    {
     "data": {
      "text/plain": [
       "'pickup_geolocation'"
      ]
     },
     "execution_count": 123,
     "metadata": {},
     "output_type": "execute_result"
    }
   ],
   "source": [
    "geolocation"
   ]
  },
  {
   "cell_type": "code",
   "execution_count": 124,
   "metadata": {},
   "outputs": [
    {
     "name": "stdout",
     "output_type": "stream",
     "text": [
      "(1522560, 4)\n",
      "pickup_hourly         0\n",
      "pulocationid          0\n",
      "pickup_geolocation    0\n",
      "day_hour_name         0\n",
      "dtype: int64\n",
      "rts start: 2019-07-01 00:00:00\n",
      "rts end: 2020-02-29 23:00:00\n"
     ]
    },
    {
     "data": {
      "text/html": [
       "<div>\n",
       "<style scoped>\n",
       "    .dataframe tbody tr th:only-of-type {\n",
       "        vertical-align: middle;\n",
       "    }\n",
       "\n",
       "    .dataframe tbody tr th {\n",
       "        vertical-align: top;\n",
       "    }\n",
       "\n",
       "    .dataframe thead th {\n",
       "        text-align: right;\n",
       "    }\n",
       "</style>\n",
       "<table border=\"1\" class=\"dataframe\">\n",
       "  <thead>\n",
       "    <tr style=\"text-align: right;\">\n",
       "      <th></th>\n",
       "      <th>pickup_hourly</th>\n",
       "      <th>pulocationid</th>\n",
       "      <th>pickup_geolocation</th>\n",
       "      <th>day_hour_name</th>\n",
       "    </tr>\n",
       "  </thead>\n",
       "  <tbody>\n",
       "    <tr>\n",
       "      <th>112520</th>\n",
       "      <td>2019-08-22 08:00:00</td>\n",
       "      <td>119</td>\n",
       "      <td>40.83673003_-73.92696621</td>\n",
       "      <td>Thursday_8</td>\n",
       "    </tr>\n",
       "    <tr>\n",
       "      <th>1469465</th>\n",
       "      <td>2020-02-13 17:00:00</td>\n",
       "      <td>90</td>\n",
       "      <td>40.74254616_-73.99677751</td>\n",
       "      <td>Thursday_17</td>\n",
       "    </tr>\n",
       "    <tr>\n",
       "      <th>3567</th>\n",
       "      <td>2019-11-26 15:00:00</td>\n",
       "      <td>1</td>\n",
       "      <td>40.68951565_-74.17678575</td>\n",
       "      <td>Tuesday_15</td>\n",
       "    </tr>\n",
       "    <tr>\n",
       "      <th>1151324</th>\n",
       "      <td>2019-11-25 20:00:00</td>\n",
       "      <td>41</td>\n",
       "      <td>40.80420483_-73.95206533</td>\n",
       "      <td>Monday_20</td>\n",
       "    </tr>\n",
       "    <tr>\n",
       "      <th>502822</th>\n",
       "      <td>2020-01-27 22:00:00</td>\n",
       "      <td>179</td>\n",
       "      <td>40.77142534_-73.92681236</td>\n",
       "      <td>Monday_22</td>\n",
       "    </tr>\n",
       "  </tbody>\n",
       "</table>\n",
       "</div>"
      ],
      "text/plain": [
       "              pickup_hourly pulocationid        pickup_geolocation day_hour_name\n",
       "112520  2019-08-22 08:00:00          119  40.83673003_-73.92696621    Thursday_8\n",
       "1469465 2020-02-13 17:00:00           90  40.74254616_-73.99677751   Thursday_17\n",
       "3567    2019-11-26 15:00:00            1  40.68951565_-74.17678575    Tuesday_15\n",
       "1151324 2019-11-25 20:00:00           41  40.80420483_-73.95206533     Monday_20\n",
       "502822  2020-01-27 22:00:00          179  40.77142534_-73.92681236     Monday_22"
      ]
     },
     "execution_count": 124,
     "metadata": {},
     "output_type": "execute_result"
    }
   ],
   "source": [
    "# EXAMPLE HOURLY RTS\n",
    "\n",
    "# Assemble RTS - include whatever columns you finally decide\n",
    "if geolocation is not None:\n",
    "    rts = full_history[forecast_dims + [geolocation] + ['day_hour_name']].copy()\n",
    "else:\n",
    "    rts = full_history[forecast_dims + ['day_hour_name']].copy()\n",
    "\n",
    "print(rts.shape)\n",
    "print(rts.isnull().sum())\n",
    "print(f\"rts start: {rts[timestamp].min()}\")\n",
    "print(f\"rts end: {rts[timestamp].max()}\")\n",
    "rts.sample(5)"
   ]
  },
  {
   "cell_type": "code",
   "execution_count": 125,
   "metadata": {},
   "outputs": [],
   "source": [
    "# Save rts to S3\n",
    "local_file = \"rts.csv\"\n",
    "# Save merged file locally\n",
    "rts.to_csv(local_file, header=False, index=False)\n",
    "\n",
    "key = f\"{prefix}/v{DATA_VERSION}/{EXPERIMENT_NAME}.related.csv\"\n",
    "boto3.Session().resource('s3').Bucket(bucket_name).Object(key).upload_file(local_file)\n"
   ]
  },
  {
   "cell_type": "code",
   "execution_count": 126,
   "metadata": {},
   "outputs": [
    {
     "data": {
      "text/plain": [
       "'nyctaxi_snap02232020_168H'"
      ]
     },
     "execution_count": 126,
     "metadata": {},
     "output_type": "execute_result"
    }
   ],
   "source": [
    "EXPERIMENT_NAME"
   ]
  },
  {
   "cell_type": "code",
   "execution_count": 127,
   "metadata": {},
   "outputs": [
    {
     "data": {
      "text/plain": [
       "1"
      ]
     },
     "execution_count": 127,
     "metadata": {},
     "output_type": "execute_result"
    }
   ],
   "source": [
    "DATA_VERSION"
   ]
  },
  {
   "cell_type": "code",
   "execution_count": 128,
   "metadata": {},
   "outputs": [
    {
     "data": {
      "text/plain": [
       "'nyc-taxi-trips'"
      ]
     },
     "execution_count": 128,
     "metadata": {},
     "output_type": "execute_result"
    }
   ],
   "source": [
    "prefix"
   ]
  },
  {
   "cell_type": "markdown",
   "metadata": {},
   "source": [
    "## Step 23. Assemble and save metadata (if any) <a class=\"anchor\" id=\"IM\"></a>"
   ]
  },
  {
   "cell_type": "code",
   "execution_count": 151,
   "metadata": {},
   "outputs": [
    {
     "data": {
      "text/plain": [
       "pulocationid      0\n",
       "pickup_borough    0\n",
       "dtype: int64"
      ]
     },
     "metadata": {},
     "output_type": "display_data"
    },
    {
     "data": {
      "text/html": [
       "<div>\n",
       "<style scoped>\n",
       "    .dataframe tbody tr th:only-of-type {\n",
       "        vertical-align: middle;\n",
       "    }\n",
       "\n",
       "    .dataframe tbody tr th {\n",
       "        vertical-align: top;\n",
       "    }\n",
       "\n",
       "    .dataframe thead th {\n",
       "        text-align: right;\n",
       "    }\n",
       "</style>\n",
       "<table border=\"1\" class=\"dataframe\">\n",
       "  <thead>\n",
       "    <tr style=\"text-align: right;\">\n",
       "      <th></th>\n",
       "      <th>pulocationid</th>\n",
       "      <th>pickup_borough</th>\n",
       "    </tr>\n",
       "  </thead>\n",
       "  <tbody>\n",
       "    <tr>\n",
       "      <th>15</th>\n",
       "      <td>115</td>\n",
       "      <td>Staten Island</td>\n",
       "    </tr>\n",
       "    <tr>\n",
       "      <th>1</th>\n",
       "      <td>10</td>\n",
       "      <td>Queens</td>\n",
       "    </tr>\n",
       "  </tbody>\n",
       "</table>\n",
       "</div>"
      ],
      "text/plain": [
       "   pulocationid pickup_borough\n",
       "15          115  Staten Island\n",
       "1            10         Queens"
      ]
     },
     "execution_count": 151,
     "metadata": {},
     "output_type": "execute_result"
    }
   ],
   "source": [
    "# Identify metadata columns\n",
    "# im = df[[item_id, 'pickup_borough', 'binned_max_item']].copy()\n",
    "im = df[[item_id, 'pickup_borough']].copy()\n",
    "im = im.groupby(dims_except_timestamp).first()\n",
    "im.reset_index(inplace=True)\n",
    "# check nulls\n",
    "display(im.isnull().sum())\n",
    "im.sample(2)"
   ]
  },
  {
   "cell_type": "code",
   "execution_count": 152,
   "metadata": {},
   "outputs": [
    {
     "name": "stdout",
     "output_type": "stream",
     "text": [
      "(260, 2)\n",
      "pulocationid       object\n",
      "item_cat_by_max    object\n",
      "dtype: object\n",
      "Index(['pulocationid', 'item_cat_by_max'], dtype='object')\n"
     ]
    },
    {
     "data": {
      "text/html": [
       "<div>\n",
       "<style scoped>\n",
       "    .dataframe tbody tr th:only-of-type {\n",
       "        vertical-align: middle;\n",
       "    }\n",
       "\n",
       "    .dataframe tbody tr th {\n",
       "        vertical-align: top;\n",
       "    }\n",
       "\n",
       "    .dataframe thead th {\n",
       "        text-align: right;\n",
       "    }\n",
       "</style>\n",
       "<table border=\"1\" class=\"dataframe\">\n",
       "  <thead>\n",
       "    <tr style=\"text-align: right;\">\n",
       "      <th></th>\n",
       "      <th>pulocationid</th>\n",
       "      <th>item_cat_by_max</th>\n",
       "    </tr>\n",
       "  </thead>\n",
       "  <tbody>\n",
       "    <tr>\n",
       "      <th>167</th>\n",
       "      <td>252</td>\n",
       "      <td>Cat_1</td>\n",
       "    </tr>\n",
       "    <tr>\n",
       "      <th>194</th>\n",
       "      <td>4</td>\n",
       "      <td>Cat_1</td>\n",
       "    </tr>\n",
       "    <tr>\n",
       "      <th>121</th>\n",
       "      <td>210</td>\n",
       "      <td>Cat_1</td>\n",
       "    </tr>\n",
       "    <tr>\n",
       "      <th>214</th>\n",
       "      <td>58</td>\n",
       "      <td>Cat_1</td>\n",
       "    </tr>\n",
       "    <tr>\n",
       "      <th>198</th>\n",
       "      <td>43</td>\n",
       "      <td>Cat_1</td>\n",
       "    </tr>\n",
       "  </tbody>\n",
       "</table>\n",
       "</div>"
      ],
      "text/plain": [
       "    pulocationid item_cat_by_max\n",
       "167          252           Cat_1\n",
       "194            4           Cat_1\n",
       "121          210           Cat_1\n",
       "214           58           Cat_1\n",
       "198           43           Cat_1"
      ]
     },
     "metadata": {},
     "output_type": "display_data"
    },
    {
     "name": "stdout",
     "output_type": "stream",
     "text": [
      "Cat_1    234\n",
      "Cat_2     20\n",
      "Cat_3      4\n",
      "Cat_4      2\n",
      "Name: item_cat_by_max, dtype: int64\n",
      "(260, 3) (260, 2)\n"
     ]
    },
    {
     "data": {
      "text/html": [
       "<div>\n",
       "<style scoped>\n",
       "    .dataframe tbody tr th:only-of-type {\n",
       "        vertical-align: middle;\n",
       "    }\n",
       "\n",
       "    .dataframe tbody tr th {\n",
       "        vertical-align: top;\n",
       "    }\n",
       "\n",
       "    .dataframe thead th {\n",
       "        text-align: right;\n",
       "    }\n",
       "</style>\n",
       "<table border=\"1\" class=\"dataframe\">\n",
       "  <thead>\n",
       "    <tr style=\"text-align: right;\">\n",
       "      <th></th>\n",
       "      <th>pulocationid</th>\n",
       "      <th>pickup_borough</th>\n",
       "      <th>item_cat_by_max</th>\n",
       "    </tr>\n",
       "  </thead>\n",
       "  <tbody>\n",
       "    <tr>\n",
       "      <th>0</th>\n",
       "      <td>1</td>\n",
       "      <td>EWR</td>\n",
       "      <td>Cat_1</td>\n",
       "    </tr>\n",
       "    <tr>\n",
       "      <th>1</th>\n",
       "      <td>10</td>\n",
       "      <td>Queens</td>\n",
       "      <td>Cat_1</td>\n",
       "    </tr>\n",
       "    <tr>\n",
       "      <th>2</th>\n",
       "      <td>100</td>\n",
       "      <td>Manhattan</td>\n",
       "      <td>Cat_1</td>\n",
       "    </tr>\n",
       "    <tr>\n",
       "      <th>3</th>\n",
       "      <td>101</td>\n",
       "      <td>Queens</td>\n",
       "      <td>Cat_1</td>\n",
       "    </tr>\n",
       "    <tr>\n",
       "      <th>4</th>\n",
       "      <td>102</td>\n",
       "      <td>Queens</td>\n",
       "      <td>Cat_1</td>\n",
       "    </tr>\n",
       "  </tbody>\n",
       "</table>\n",
       "</div>"
      ],
      "text/plain": [
       "  pulocationid pickup_borough item_cat_by_max\n",
       "0            1            EWR           Cat_1\n",
       "1           10         Queens           Cat_1\n",
       "2          100      Manhattan           Cat_1\n",
       "3          101         Queens           Cat_1\n",
       "4          102         Queens           Cat_1"
      ]
     },
     "execution_count": 152,
     "metadata": {},
     "output_type": "execute_result"
    }
   ],
   "source": [
    "# Additional metadata created by binning just item target_value is sometimes useful.\n",
    "\n",
    "# aggregate sales by item \n",
    "synthetic = df.copy()\n",
    "synthetic = (synthetic.groupby(item_id)\n",
    "        .agg({target_value: ['max']}))\n",
    "\n",
    "synthetic = synthetic.reset_index()\n",
    "synthetic.sample(5)\n",
    "\n",
    "#bin data into 4 categories\n",
    "cat_scales = [\"Cat_{}\".format(i) for i in range(1,5)]\n",
    "synthetic['item_cat_by_max'] = list(pd.cut(synthetic[target_value]['max'].values, 4, labels=cat_scales))\n",
    "\n",
    "synthetic.drop(target_value, axis=1, inplace=True)\n",
    "synthetic.columns = synthetic.columns.get_level_values(0)\n",
    "\n",
    "print(synthetic.shape)\n",
    "print(synthetic.dtypes)\n",
    "print(synthetic.columns)\n",
    "display(synthetic.sample(5))\n",
    "print(synthetic.item_cat_by_max.value_counts(dropna=False))\n",
    "\n",
    "# merge synthetic features\n",
    "im = im.merge(synthetic, how=\"left\", on=[item_id])\n",
    "print(im.shape, synthetic.shape)\n",
    "im.head()"
   ]
  },
  {
   "cell_type": "code",
   "execution_count": 153,
   "metadata": {},
   "outputs": [
    {
     "name": "stdout",
     "output_type": "stream",
     "text": [
      "(260, 3)\n"
     ]
    },
    {
     "data": {
      "text/html": [
       "<div>\n",
       "<style scoped>\n",
       "    .dataframe tbody tr th:only-of-type {\n",
       "        vertical-align: middle;\n",
       "    }\n",
       "\n",
       "    .dataframe tbody tr th {\n",
       "        vertical-align: top;\n",
       "    }\n",
       "\n",
       "    .dataframe thead th {\n",
       "        text-align: right;\n",
       "    }\n",
       "</style>\n",
       "<table border=\"1\" class=\"dataframe\">\n",
       "  <thead>\n",
       "    <tr style=\"text-align: right;\">\n",
       "      <th></th>\n",
       "      <th>pulocationid</th>\n",
       "      <th>pickup_borough</th>\n",
       "      <th>item_cat_by_max</th>\n",
       "    </tr>\n",
       "  </thead>\n",
       "  <tbody>\n",
       "    <tr>\n",
       "      <th>0</th>\n",
       "      <td>1</td>\n",
       "      <td>EWR</td>\n",
       "      <td>Cat_1</td>\n",
       "    </tr>\n",
       "    <tr>\n",
       "      <th>1</th>\n",
       "      <td>10</td>\n",
       "      <td>Queens</td>\n",
       "      <td>Cat_1</td>\n",
       "    </tr>\n",
       "    <tr>\n",
       "      <th>2</th>\n",
       "      <td>100</td>\n",
       "      <td>Manhattan</td>\n",
       "      <td>Cat_1</td>\n",
       "    </tr>\n",
       "    <tr>\n",
       "      <th>3</th>\n",
       "      <td>101</td>\n",
       "      <td>Queens</td>\n",
       "      <td>Cat_1</td>\n",
       "    </tr>\n",
       "    <tr>\n",
       "      <th>4</th>\n",
       "      <td>102</td>\n",
       "      <td>Queens</td>\n",
       "      <td>Cat_1</td>\n",
       "    </tr>\n",
       "  </tbody>\n",
       "</table>\n",
       "</div>"
      ],
      "text/plain": [
       "  pulocationid pickup_borough item_cat_by_max\n",
       "0            1            EWR           Cat_1\n",
       "1           10         Queens           Cat_1\n",
       "2          100      Manhattan           Cat_1\n",
       "3          101         Queens           Cat_1\n",
       "4          102         Queens           Cat_1"
      ]
     },
     "metadata": {},
     "output_type": "display_data"
    },
    {
     "data": {
      "text/html": [
       "<div>\n",
       "<style scoped>\n",
       "    .dataframe tbody tr th:only-of-type {\n",
       "        vertical-align: middle;\n",
       "    }\n",
       "\n",
       "    .dataframe tbody tr th {\n",
       "        vertical-align: top;\n",
       "    }\n",
       "\n",
       "    .dataframe thead th {\n",
       "        text-align: right;\n",
       "    }\n",
       "</style>\n",
       "<table border=\"1\" class=\"dataframe\">\n",
       "  <thead>\n",
       "    <tr style=\"text-align: right;\">\n",
       "      <th></th>\n",
       "      <th>pulocationid</th>\n",
       "      <th>pickup_borough</th>\n",
       "      <th>item_cat_by_max</th>\n",
       "    </tr>\n",
       "  </thead>\n",
       "  <tbody>\n",
       "    <tr>\n",
       "      <th>count</th>\n",
       "      <td>260</td>\n",
       "      <td>260</td>\n",
       "      <td>260</td>\n",
       "    </tr>\n",
       "    <tr>\n",
       "      <th>unique</th>\n",
       "      <td>260</td>\n",
       "      <td>6</td>\n",
       "      <td>4</td>\n",
       "    </tr>\n",
       "    <tr>\n",
       "      <th>top</th>\n",
       "      <td>246</td>\n",
       "      <td>Queens</td>\n",
       "      <td>Cat_1</td>\n",
       "    </tr>\n",
       "    <tr>\n",
       "      <th>freq</th>\n",
       "      <td>1</td>\n",
       "      <td>69</td>\n",
       "      <td>234</td>\n",
       "    </tr>\n",
       "  </tbody>\n",
       "</table>\n",
       "</div>"
      ],
      "text/plain": [
       "       pulocationid pickup_borough item_cat_by_max\n",
       "count           260            260             260\n",
       "unique          260              6               4\n",
       "top             246         Queens           Cat_1\n",
       "freq              1             69             234"
      ]
     },
     "execution_count": 153,
     "metadata": {},
     "output_type": "execute_result"
    }
   ],
   "source": [
    "# check metadata so far\n",
    "\n",
    "print(im.shape)\n",
    "if im.shape[0] < 50:\n",
    "    display(im)\n",
    "else:\n",
    "    display(im.head())\n",
    "\n",
    "# check cardinality of metadata columns\n",
    "im.describe()"
   ]
  },
  {
   "cell_type": "code",
   "execution_count": 154,
   "metadata": {},
   "outputs": [
    {
     "name": "stdout",
     "output_type": "stream",
     "text": [
      "0    254\n",
      "1      6\n",
      "Name: is_sparse, dtype: int64\n"
     ]
    },
    {
     "data": {
      "text/html": [
       "<div>\n",
       "<style scoped>\n",
       "    .dataframe tbody tr th:only-of-type {\n",
       "        vertical-align: middle;\n",
       "    }\n",
       "\n",
       "    .dataframe tbody tr th {\n",
       "        vertical-align: top;\n",
       "    }\n",
       "\n",
       "    .dataframe thead th {\n",
       "        text-align: right;\n",
       "    }\n",
       "</style>\n",
       "<table border=\"1\" class=\"dataframe\">\n",
       "  <thead>\n",
       "    <tr style=\"text-align: right;\">\n",
       "      <th></th>\n",
       "      <th>pulocationid</th>\n",
       "      <th>pickup_borough</th>\n",
       "      <th>item_cat_by_max</th>\n",
       "      <th>is_sparse</th>\n",
       "    </tr>\n",
       "  </thead>\n",
       "  <tbody>\n",
       "    <tr>\n",
       "      <th>47</th>\n",
       "      <td>144</td>\n",
       "      <td>Manhattan</td>\n",
       "      <td>Cat_2</td>\n",
       "      <td>0</td>\n",
       "    </tr>\n",
       "    <tr>\n",
       "      <th>70</th>\n",
       "      <td>165</td>\n",
       "      <td>Brooklyn</td>\n",
       "      <td>Cat_1</td>\n",
       "      <td>0</td>\n",
       "    </tr>\n",
       "    <tr>\n",
       "      <th>127</th>\n",
       "      <td>216</td>\n",
       "      <td>Queens</td>\n",
       "      <td>Cat_1</td>\n",
       "      <td>0</td>\n",
       "    </tr>\n",
       "    <tr>\n",
       "      <th>174</th>\n",
       "      <td>259</td>\n",
       "      <td>Bronx</td>\n",
       "      <td>Cat_1</td>\n",
       "      <td>0</td>\n",
       "    </tr>\n",
       "    <tr>\n",
       "      <th>197</th>\n",
       "      <td>42</td>\n",
       "      <td>Manhattan</td>\n",
       "      <td>Cat_1</td>\n",
       "      <td>0</td>\n",
       "    </tr>\n",
       "  </tbody>\n",
       "</table>\n",
       "</div>"
      ],
      "text/plain": [
       "    pulocationid pickup_borough item_cat_by_max  is_sparse\n",
       "47           144      Manhattan           Cat_2          0\n",
       "70           165       Brooklyn           Cat_1          0\n",
       "127          216         Queens           Cat_1          0\n",
       "174          259          Bronx           Cat_1          0\n",
       "197           42      Manhattan           Cat_1          0"
      ]
     },
     "execution_count": 154,
     "metadata": {},
     "output_type": "execute_result"
    }
   ],
   "source": [
    "# merge in sparse or not column\n",
    "im['is_sparse'] = 0\n",
    "\n",
    "im.loc[(im[item_id].isin(list(sparse[item_id].unique()))), 'is_sparse'] = 1\n",
    "print(im.is_sparse.value_counts(dropna=False))\n",
    "im.sample(5)"
   ]
  },
  {
   "cell_type": "code",
   "execution_count": 155,
   "metadata": {},
   "outputs": [
    {
     "name": "stdout",
     "output_type": "stream",
     "text": [
      "0    213\n",
      "1     47\n",
      "Name: top_moving, dtype: int64\n"
     ]
    },
    {
     "data": {
      "text/html": [
       "<div>\n",
       "<style scoped>\n",
       "    .dataframe tbody tr th:only-of-type {\n",
       "        vertical-align: middle;\n",
       "    }\n",
       "\n",
       "    .dataframe tbody tr th {\n",
       "        vertical-align: top;\n",
       "    }\n",
       "\n",
       "    .dataframe thead th {\n",
       "        text-align: right;\n",
       "    }\n",
       "</style>\n",
       "<table border=\"1\" class=\"dataframe\">\n",
       "  <thead>\n",
       "    <tr style=\"text-align: right;\">\n",
       "      <th></th>\n",
       "      <th>pulocationid</th>\n",
       "      <th>pickup_borough</th>\n",
       "      <th>item_cat_by_max</th>\n",
       "      <th>is_sparse</th>\n",
       "      <th>top_moving</th>\n",
       "    </tr>\n",
       "  </thead>\n",
       "  <tbody>\n",
       "    <tr>\n",
       "      <th>38</th>\n",
       "      <td>136</td>\n",
       "      <td>Bronx</td>\n",
       "      <td>Cat_1</td>\n",
       "      <td>0</td>\n",
       "      <td>0</td>\n",
       "    </tr>\n",
       "    <tr>\n",
       "      <th>223</th>\n",
       "      <td>66</td>\n",
       "      <td>Brooklyn</td>\n",
       "      <td>Cat_1</td>\n",
       "      <td>0</td>\n",
       "      <td>0</td>\n",
       "    </tr>\n",
       "    <tr>\n",
       "      <th>75</th>\n",
       "      <td>17</td>\n",
       "      <td>Brooklyn</td>\n",
       "      <td>Cat_1</td>\n",
       "      <td>0</td>\n",
       "      <td>0</td>\n",
       "    </tr>\n",
       "    <tr>\n",
       "      <th>24</th>\n",
       "      <td>123</td>\n",
       "      <td>Brooklyn</td>\n",
       "      <td>Cat_1</td>\n",
       "      <td>0</td>\n",
       "      <td>0</td>\n",
       "    </tr>\n",
       "    <tr>\n",
       "      <th>56</th>\n",
       "      <td>152</td>\n",
       "      <td>Manhattan</td>\n",
       "      <td>Cat_1</td>\n",
       "      <td>0</td>\n",
       "      <td>0</td>\n",
       "    </tr>\n",
       "  </tbody>\n",
       "</table>\n",
       "</div>"
      ],
      "text/plain": [
       "    pulocationid pickup_borough item_cat_by_max  is_sparse  top_moving\n",
       "38           136          Bronx           Cat_1          0           0\n",
       "223           66       Brooklyn           Cat_1          0           0\n",
       "75            17       Brooklyn           Cat_1          0           0\n",
       "24           123       Brooklyn           Cat_1          0           0\n",
       "56           152      Manhattan           Cat_1          0           0"
      ]
     },
     "execution_count": 155,
     "metadata": {},
     "output_type": "execute_result"
    }
   ],
   "source": [
    "# merge in top-moving or not column\n",
    "im['top_moving'] = 0\n",
    "\n",
    "im.loc[(im[item_id].isin(list(top_moving_items[item_id].unique()))), 'top_moving'] = 1\n",
    "print(im.top_moving.value_counts(dropna=False))\n",
    "im.sample(5)"
   ]
  },
  {
   "cell_type": "code",
   "execution_count": 156,
   "metadata": {},
   "outputs": [
    {
     "name": "stdout",
     "output_type": "stream",
     "text": [
      "smooth          213\n",
      "erratic          43\n",
      "intermittent      4\n",
      "Name: ts_type, dtype: int64\n"
     ]
    },
    {
     "data": {
      "text/html": [
       "<div>\n",
       "<style scoped>\n",
       "    .dataframe tbody tr th:only-of-type {\n",
       "        vertical-align: middle;\n",
       "    }\n",
       "\n",
       "    .dataframe tbody tr th {\n",
       "        vertical-align: top;\n",
       "    }\n",
       "\n",
       "    .dataframe thead th {\n",
       "        text-align: right;\n",
       "    }\n",
       "</style>\n",
       "<table border=\"1\" class=\"dataframe\">\n",
       "  <thead>\n",
       "    <tr style=\"text-align: right;\">\n",
       "      <th></th>\n",
       "      <th>pulocationid</th>\n",
       "      <th>pickup_borough</th>\n",
       "      <th>item_cat_by_max</th>\n",
       "      <th>is_sparse</th>\n",
       "      <th>top_moving</th>\n",
       "      <th>ts_type</th>\n",
       "    </tr>\n",
       "  </thead>\n",
       "  <tbody>\n",
       "    <tr>\n",
       "      <th>67</th>\n",
       "      <td>162</td>\n",
       "      <td>Manhattan</td>\n",
       "      <td>Cat_2</td>\n",
       "      <td>0</td>\n",
       "      <td>1</td>\n",
       "      <td>smooth</td>\n",
       "    </tr>\n",
       "    <tr>\n",
       "      <th>145</th>\n",
       "      <td>232</td>\n",
       "      <td>Manhattan</td>\n",
       "      <td>Cat_1</td>\n",
       "      <td>0</td>\n",
       "      <td>0</td>\n",
       "      <td>erratic</td>\n",
       "    </tr>\n",
       "    <tr>\n",
       "      <th>17</th>\n",
       "      <td>117</td>\n",
       "      <td>Queens</td>\n",
       "      <td>Cat_1</td>\n",
       "      <td>0</td>\n",
       "      <td>0</td>\n",
       "      <td>smooth</td>\n",
       "    </tr>\n",
       "    <tr>\n",
       "      <th>210</th>\n",
       "      <td>54</td>\n",
       "      <td>Brooklyn</td>\n",
       "      <td>Cat_1</td>\n",
       "      <td>0</td>\n",
       "      <td>0</td>\n",
       "      <td>smooth</td>\n",
       "    </tr>\n",
       "    <tr>\n",
       "      <th>83</th>\n",
       "      <td>177</td>\n",
       "      <td>Brooklyn</td>\n",
       "      <td>Cat_1</td>\n",
       "      <td>0</td>\n",
       "      <td>0</td>\n",
       "      <td>smooth</td>\n",
       "    </tr>\n",
       "  </tbody>\n",
       "</table>\n",
       "</div>"
      ],
      "text/plain": [
       "    pulocationid pickup_borough item_cat_by_max  is_sparse  top_moving  ts_type\n",
       "67           162      Manhattan           Cat_2          0           1   smooth\n",
       "145          232      Manhattan           Cat_1          0           0  erratic\n",
       "17           117         Queens           Cat_1          0           0   smooth\n",
       "210           54       Brooklyn           Cat_1          0           0   smooth\n",
       "83           177       Brooklyn           Cat_1          0           0   smooth"
      ]
     },
     "execution_count": 156,
     "metadata": {},
     "output_type": "execute_result"
    }
   ],
   "source": [
    "# merge in time series categories column\n",
    "categories_df = full_history.groupby([item_id])[item_id, 'ts_type'].first()\n",
    "categories_df.reset_index(inplace=True, drop=True)\n",
    "# categories_df.head(2)\n",
    "\n",
    "im = im.merge(categories_df, how=\"left\", on=[item_id])\n",
    "print(im.ts_type.value_counts(dropna=False))\n",
    "im.sample(5)"
   ]
  },
  {
   "cell_type": "code",
   "execution_count": 157,
   "metadata": {},
   "outputs": [
    {
     "name": "stdout",
     "output_type": "stream",
     "text": [
      "(260, 3)\n",
      "checking nulls..\n",
      "pulocationid       0\n",
      "pickup_borough     0\n",
      "item_cat_by_max    0\n",
      "dtype: int64\n"
     ]
    },
    {
     "data": {
      "text/html": [
       "<div>\n",
       "<style scoped>\n",
       "    .dataframe tbody tr th:only-of-type {\n",
       "        vertical-align: middle;\n",
       "    }\n",
       "\n",
       "    .dataframe tbody tr th {\n",
       "        vertical-align: top;\n",
       "    }\n",
       "\n",
       "    .dataframe thead th {\n",
       "        text-align: right;\n",
       "    }\n",
       "</style>\n",
       "<table border=\"1\" class=\"dataframe\">\n",
       "  <thead>\n",
       "    <tr style=\"text-align: right;\">\n",
       "      <th></th>\n",
       "      <th>pulocationid</th>\n",
       "      <th>pickup_borough</th>\n",
       "      <th>item_cat_by_max</th>\n",
       "    </tr>\n",
       "  </thead>\n",
       "  <tbody>\n",
       "    <tr>\n",
       "      <th>44</th>\n",
       "      <td>141</td>\n",
       "      <td>Manhattan</td>\n",
       "      <td>Cat_2</td>\n",
       "    </tr>\n",
       "    <tr>\n",
       "      <th>87</th>\n",
       "      <td>180</td>\n",
       "      <td>Queens</td>\n",
       "      <td>Cat_1</td>\n",
       "    </tr>\n",
       "    <tr>\n",
       "      <th>52</th>\n",
       "      <td>149</td>\n",
       "      <td>Brooklyn</td>\n",
       "      <td>Cat_1</td>\n",
       "    </tr>\n",
       "    <tr>\n",
       "      <th>55</th>\n",
       "      <td>151</td>\n",
       "      <td>Manhattan</td>\n",
       "      <td>Cat_1</td>\n",
       "    </tr>\n",
       "    <tr>\n",
       "      <th>231</th>\n",
       "      <td>73</td>\n",
       "      <td>Queens</td>\n",
       "      <td>Cat_1</td>\n",
       "    </tr>\n",
       "  </tbody>\n",
       "</table>\n",
       "</div>"
      ],
      "text/plain": [
       "    pulocationid pickup_borough item_cat_by_max\n",
       "44           141      Manhattan           Cat_2\n",
       "87           180         Queens           Cat_1\n",
       "52           149       Brooklyn           Cat_1\n",
       "55           151      Manhattan           Cat_1\n",
       "231           73         Queens           Cat_1"
      ]
     },
     "execution_count": 157,
     "metadata": {},
     "output_type": "execute_result"
    }
   ],
   "source": [
    "# Assemble metadata just columns you want\n",
    "\n",
    "im = im.iloc[:, 0:3].groupby(item_id).max()\n",
    "im.reset_index(inplace=True)\n",
    "print(im.shape)\n",
    "print(\"checking nulls..\")\n",
    "print(im.isnull().sum())\n",
    "im.sample(5)"
   ]
  },
  {
   "cell_type": "code",
   "execution_count": 158,
   "metadata": {},
   "outputs": [],
   "source": [
    "# Save im to S3\n",
    "local_file = \"item_metadata.csv\"\n",
    "# Save merged file locally\n",
    "im.to_csv(local_file, header=False, index=False)\n",
    "\n",
    "key = f\"{prefix}/v{DATA_VERSION}/{EXPERIMENT_NAME}.metadata.csv\"\n",
    "boto3.Session().resource('s3').Bucket(bucket_name).Object(key).upload_file(local_file)"
   ]
  }
 ],
 "metadata": {
  "instance_type": "ml.t3.medium",
  "kernelspec": {
   "display_name": "Python 3 (Data Science)",
   "language": "python",
   "name": "python3__SAGEMAKER_INTERNAL__arn:aws:sagemaker:ap-southeast-1:492261229750:image/datascience-1.0"
  },
  "language_info": {
   "codemirror_mode": {
    "name": "ipython",
    "version": 3
   },
   "file_extension": ".py",
   "mimetype": "text/x-python",
   "name": "python",
   "nbconvert_exporter": "python",
   "pygments_lexer": "ipython3",
   "version": "3.7.10"
  }
 },
 "nbformat": 4,
 "nbformat_minor": 4
}
